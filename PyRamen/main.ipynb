{
 "cells": [
  {
   "cell_type": "code",
   "execution_count": 50,
   "id": "65e7ba5e-5481-4a12-a047-61cdd4bc0d44",
   "metadata": {},
   "outputs": [
    {
     "name": "stdout",
     "output_type": "stream",
     "text": [
      "['1', '1', '2', '2']\n",
      "['vegetarian spicy miso', 'vegetarian spicy miso', 'spicy miso ramen', 'spicy miso ramen']\n"
     ]
    }
   ],
   "source": [
    "import csv\n",
    "\n",
    "header_lines_menu=1\n",
    "menu=[]\n",
    "header_lines_sales=74121\n",
    "sales=[]\n",
    "\n",
    "\n",
    "with open ('menu_data.csv', newline='') as menu_csvfile:\n",
    "    readers=csv.reader(menu_csvfile, delimiter=',')\n",
    "    [next(readers, None) for item in range(header_lines_menu)]\n",
    "    for row in readers:\n",
    "        item=(row[0])\n",
    "        category=(row[1])\n",
    "        description=(row[2])\n",
    "        price=(row[3])\n",
    "        cost=(row[4])\n",
    "        menu.append([item, category, description,price,cost])\n",
    "with open ('sales_data.csv', newline='') as sales_csvfile:\n",
    "    readers=csv.reader(sales_csvfile, delimiter=',')\n",
    "    [next(readers, None) for item in range(header_lines_sales)]\n",
    "    for row in readers:\n",
    "        line_item_id=(row[0])\n",
    "        date=(row[1])\n",
    "        credit_card=(row[2])\n",
    "        quantity=(row[3])\n",
    "        menu_item=(row[4])\n",
    "        sales.append([line_item_id, date, credit_card,quantity, menu_item])\n",
    "# print(menu)\n",
    "# print(sales)\n",
    "report={\n",
    "    \"01-count\" : 0,\n",
    "    \"02-revenue\": 0,\n",
    "    \"03-cogs\": 0,\n",
    "    \"04-profit\": 0,\n",
    "}\n",
    "# print(report)\n",
    "quantity=[]\n",
    "menu_item=[]\n",
    "for s in sales:\n",
    "    quantity.append([s][0][3])\n",
    "    menu_item.append([s][0][4])\n",
    "    #print([s])\n",
    "#\n",
    "print(quantity)\n",
    "print(menu_item)\n"
   ]
  },
  {
   "cell_type": "code",
   "execution_count": null,
   "id": "5236ded4-f7ce-4081-8f25-ea0d1ada8708",
   "metadata": {},
   "outputs": [],
   "source": []
  },
  {
   "cell_type": "code",
   "execution_count": null,
   "id": "e9713501-4abc-462d-92d6-b1bf42ece8c0",
   "metadata": {},
   "outputs": [],
   "source": []
  }
 ],
 "metadata": {
  "kernelspec": {
   "display_name": "Python 3",
   "language": "python",
   "name": "python3"
  },
  "language_info": {
   "codemirror_mode": {
    "name": "ipython",
    "version": 3
   },
   "file_extension": ".py",
   "mimetype": "text/x-python",
   "name": "python",
   "nbconvert_exporter": "python",
   "pygments_lexer": "ipython3",
   "version": "3.8.8"
  }
 },
 "nbformat": 4,
 "nbformat_minor": 5
}
