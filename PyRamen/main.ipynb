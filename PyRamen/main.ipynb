{
 "cells": [
  {
   "cell_type": "code",
   "execution_count": 17,
   "id": "65e7ba5e-5481-4a12-a047-61cdd4bc0d44",
   "metadata": {},
   "outputs": [
    {
     "name": "stdout",
     "output_type": "stream",
     "text": [
      "[['74121', '12-31-2018', '6800009643487106', '1', 'vegetarian spicy miso'], ['74122', '12-31-2018', '6800009643487106', '1', 'vegetarian spicy miso'], ['74123', '12-31-2018', '5981057609583653', '2', 'spicy miso ramen'], ['74124', '12-31-2018', '5981057609583653', '2', 'spicy miso ramen']]\n"
     ]
    }
   ],
   "source": [
    "import csv\n",
    "header_lines=74121\n",
    "sales=[]\n",
    "with open ('sales_data.csv', newline='') as csvfile:\n",
    "    readers=csv.reader(csvfile, delimiter=',')\n",
    "    [next(readers, None) for item in range(header_lines)]\n",
    "    for row in readers:\n",
    "        line_item_id=(row[0])\n",
    "        date=(row[1])\n",
    "        credit_card=(row[2])\n",
    "        quantity=(row[3])\n",
    "        menu_item=(row[4])\n",
    "        sales.append([line_item_id, date, credit_card,quantity, menu_item])\n",
    "print(sales)"
   ]
  },
  {
   "cell_type": "code",
   "execution_count": null,
   "id": "2036518e-52b6-4a61-9623-50dea3bdb3b5",
   "metadata": {},
   "outputs": [],
   "source": [
    " "
   ]
  },
  {
   "cell_type": "code",
   "execution_count": null,
   "id": "63ab158c-de7d-4e8b-adba-daa613485f70",
   "metadata": {},
   "outputs": [],
   "source": []
  }
 ],
 "metadata": {
  "kernelspec": {
   "display_name": "Python 3",
   "language": "python",
   "name": "python3"
  },
  "language_info": {
   "codemirror_mode": {
    "name": "ipython",
    "version": 3
   },
   "file_extension": ".py",
   "mimetype": "text/x-python",
   "name": "python",
   "nbconvert_exporter": "python",
   "pygments_lexer": "ipython3",
   "version": "3.8.8"
  }
 },
 "nbformat": 4,
 "nbformat_minor": 5
}
