{
 "cells": [
  {
   "cell_type": "code",
   "execution_count": 25,
   "id": "65e7ba5e-5481-4a12-a047-61cdd4bc0d44",
   "metadata": {},
   "outputs": [],
   "source": [
    "import csv\n",
    "\n",
    "header_lines_menu=1\n",
    "menu=[]\n",
    "header_lines_sales=74121\n",
    "sales=[]\n",
    "\n",
    "with open ('menu_data.csv', newline='') as csvfile:\n",
    "    readers=csv.reader(csvfile, delimiter=',')\n",
    "    [next(readers, None) for item in range(header_lines_menu)]\n",
    "    for row in readers:\n",
    "        item=(row[0])\n",
    "        category=(row[1])\n",
    "        description=(row[2])\n",
    "        price=(row[3])\n",
    "        cost=(row[4])\n",
    "        menu.append([item, category, description,price,cost])\n",
    "with open ('sales_data.csv', newline='') as csvfile:\n",
    "    readers=csv.reader(csvfile, delimiter=',')\n",
    "    [next(readers, None) for item in range(header_lines_sales)]\n",
    "    for row in readers:\n",
    "        line_item_id=(row[0])\n",
    "        date=(row[1])\n",
    "        credit_card=(row[2])\n",
    "        quantity=(row[3])\n",
    "        menu_item=(row[4])\n",
    "        sales.append([line_item_id, date, credit_card,quantity, menu_item])\n",
    "# print(menu)\n",
    "# print(sales)\n",
    "report={}"
   ]
  },
  {
   "cell_type": "code",
   "execution_count": null,
   "id": "2036518e-52b6-4a61-9623-50dea3bdb3b5",
   "metadata": {},
   "outputs": [],
   "source": [
    " "
   ]
  },
  {
   "cell_type": "code",
   "execution_count": null,
   "id": "63ab158c-de7d-4e8b-adba-daa613485f70",
   "metadata": {},
   "outputs": [],
   "source": []
  }
 ],
 "metadata": {
  "kernelspec": {
   "display_name": "Python 3",
   "language": "python",
   "name": "python3"
  },
  "language_info": {
   "codemirror_mode": {
    "name": "ipython",
    "version": 3
   },
   "file_extension": ".py",
   "mimetype": "text/x-python",
   "name": "python",
   "nbconvert_exporter": "python",
   "pygments_lexer": "ipython3",
   "version": "3.8.8"
  }
 },
 "nbformat": 4,
 "nbformat_minor": 5
}
